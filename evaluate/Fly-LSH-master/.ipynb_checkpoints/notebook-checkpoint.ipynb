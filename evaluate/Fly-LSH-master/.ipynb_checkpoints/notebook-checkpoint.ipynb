{
 "cells": [
  {
   "cell_type": "markdown",
   "metadata": {},
   "source": [
    "###### A few imports"
   ]
  },
  {
   "cell_type": "code",
   "execution_count": 2,
   "metadata": {},
   "outputs": [],
   "source": [
    "import numpy as np\n",
    "import tensorflow as tf\n",
    "import os\n",
    "from lshutils import *\n",
    "import matplotlib.pyplot as plt\n",
    "%matplotlib inline\n",
    "from bokeh.plotting import figure,output_file,show"
   ]
  },
  {
   "cell_type": "code",
   "execution_count": 3,
   "metadata": {},
   "outputs": [
    {
     "name": "stdout",
     "output_type": "stream",
     "text": [
      "Extracting ./MNIST/train-images-idx3-ubyte.gz\n",
      "Extracting ./MNIST/train-labels-idx1-ubyte.gz\n",
      "Extracting ./MNIST/t10k-images-idx3-ubyte.gz\n",
      "Extracting ./MNIST/t10k-labels-idx1-ubyte.gz\n"
     ]
    }
   ],
   "source": [
    "data=Dataset('mnist') #data prep"
   ]
  },
  {
   "cell_type": "markdown",
   "metadata": {},
   "source": [
    "###### Define hyperparameters"
   ]
  },
  {
   "cell_type": "code",
   "execution_count": 11,
   "metadata": {},
   "outputs": [],
   "source": [
    "input_dim=784 #d\n",
    "max_index=1000\n",
    "sampling_ratio=0.10\n",
    "nnn=20 #number of nearest neighbours to compare, 2% of max_index as in paper\n",
    "hash_lengths=[2,4,8,12,16,20,24,28,32]\n",
    "map_points=500\n",
    "get_weights='dec'"
   ]
  },
  {
   "cell_type": "code",
   "execution_count": 5,
   "metadata": {},
   "outputs": [],
   "source": [
    "inputs_=data.data.train.images[:max_index]"
   ]
  },
  {
   "cell_type": "markdown",
   "metadata": {},
   "source": [
    "###### Use this cell to compare normal LSH and fly algorithm"
   ]
  },
  {
   "cell_type": "code",
   "execution_count": null,
   "metadata": {
    "collapsed": true,
    "scrolled": false
   },
   "outputs": [],
   "source": [
    "all_MAPs={}\n",
    "for hash_length in hash_lengths: #k\n",
    "    embedding_size= int(20*hash_length) #int(10*input_dim) #20k or 10d\n",
    "    all_MAPs[hash_length]={}\n",
    "    all_MAPs[hash_length]['Fly']=[]\n",
    "    all_MAPs[hash_length]['LSH']=[]\n",
    "    for _ in range(20):\n",
    "        fly_model=flylsh(inputs_,hash_length,sampling_ratio,embedding_size)\n",
    "        fly_mAP=fly_model.findmAP(nnn,map_points)\n",
    "        msg='mean average precision is equal to {:.2f}'.format(fly_mAP)\n",
    "        #_=os.system('say \"'+msg+'\"') #works only on mac\n",
    "        all_MAPs[hash_length]['Fly'].append(fly_mAP)\n",
    "        \n",
    "        dense_model=LSH(inputs_,hash_length)\n",
    "        dense_mAP=dense_model.findmAP(nnn,map_points)\n",
    "        all_MAPs[hash_length]['LSH'].append(dense_mAP)\n",
    "        msg='mean average precision is equal to {:.2f}'.format(dense_mAP)\n",
    "        #_=os.system('say \"'+msg+'\"') #works only on mac\n",
    "    print(f'{hash_length} done')\n",
    "        \n",
    "#print(all_MAPs)\n",
    "plot_mAP(all_MAPs,hash_lengths,keys=['Fly','LSH'])"
   ]
  },
  {
   "cell_type": "markdown",
   "metadata": {},
   "source": [
    "###### These cells allow experimenting with hyperparameters of autoencoder"
   ]
  },
  {
   "cell_type": "code",
   "execution_count": 8,
   "metadata": {},
   "outputs": [],
   "source": [
    "def make_grid(originals,recons):\n",
    "    fig, axes = plt.subplots(nrows=2, ncols=len(originals), sharex=True, sharey=True, figsize=(20,4))\n",
    "    for images, row in zip([originals, recons], axes):\n",
    "        for img, ax in zip(images, row):\n",
    "            ax.imshow(img.reshape((28, 28)), cmap='Greys_r')\n",
    "            ax.get_xaxis().set_visible(False)\n",
    "            ax.get_yaxis().set_visible(False)\n",
    "    fig.tight_layout(pad=0.1)"
   ]
  },
  {
   "cell_type": "code",
   "execution_count": 12,
   "metadata": {},
   "outputs": [],
   "source": [
    "denseae=AutoEncoder([784,400],is_sparse=True,beta=100.0)\n",
    "decoder=denseae.train(data,max_index,get_weights)"
   ]
  },
  {
   "cell_type": "code",
   "execution_count": null,
   "metadata": {
    "collapsed": true
   },
   "outputs": [],
   "source": [
    "bins,edges=np.histogram((decoder-np.min(decoder))/(np.max(decoder)-np.min(decoder)),bins=100)\n",
    "plt.plot(edges[:-1],bins,color='red')\n",
    "plt.show()"
   ]
  },
  {
   "cell_type": "code",
   "execution_count": null,
   "metadata": {
    "collapsed": true
   },
   "outputs": [],
   "source": [
    "net=AutoEncoder([784,400],is_sparse=True,beta=100.0,dec_weights=decoder)\n",
    "all_weights= net.train(data,max_index,show_recon=0)\n",
    "#all_weights,(originals,recons)=net.train(data,maxsize=10_000,show_recon=True)\n",
    "#make_grid(originals,recons) #please uncomment these two lines to see the reconstructions"
   ]
  },
  {
   "cell_type": "code",
   "execution_count": null,
   "metadata": {
    "collapsed": true
   },
   "outputs": [],
   "source": [
    "bins,edges=np.histogram((all_weights-np.min(all_weights))/(np.max(all_weights)-np.min(all_weights)),bins=100)\n",
    "plt.plot(edges[:-1],bins,color='red') #Distribution of weights\n",
    "plt.show()"
   ]
  },
  {
   "cell_type": "markdown",
   "metadata": {},
   "source": [
    "###### Compare Fly LSH with random weights v/s weights learnt from Autoencoder "
   ]
  },
  {
   "cell_type": "code",
   "execution_count": null,
   "metadata": {
    "collapsed": true
   },
   "outputs": [],
   "source": [
    "all_MAPs={}\n",
    "for hash_length in hash_lengths: #k\n",
    "    embedding_size= int(20*hash_length) #int(10*input_dim) #20k or 10d\n",
    "    all_MAPs[hash_length]={}\n",
    "    all_MAPs[hash_length]['Fly']=[]\n",
    "    all_MAPs[hash_length]['DenseAEFly']=[]\n",
    "    dense=AutoEncoder([784,embedding_size],is_sparse=False,beta=100.0)\n",
    "    d_weights= dense.train(data,maxsize=10_000,show_recon=0)\n",
    "    for _ in range(5):\n",
    "        daefly_model=AEflylsh(inputs_,hash_length,sampling_ratio,d_weights)\n",
    "        daefly_mAP=daefly_model.findmAP(nnn,map_points)\n",
    "        all_MAPs[hash_length]['DenseAEFly'].append(daefly_mAP)\n",
    "        \n",
    "        fly_model=flylsh(inputs_,hash_length,sampling_ratio,embedding_size)\n",
    "        fly_mAP=fly_model.findmAP(nnn,map_points)\n",
    "        all_MAPs[hash_length]['Fly'].append(fly_mAP)\n",
    "        \n",
    "    print(f'{hash_length} done')\n",
    "        \n",
    "#print(all_MAPs)"
   ]
  },
  {
   "cell_type": "code",
   "execution_count": null,
   "metadata": {
    "collapsed": true
   },
   "outputs": [],
   "source": [
    "plot_mAP(all_MAPs,hash_lengths,keys=['Fly','DenseAEFly'])"
   ]
  },
  {
   "cell_type": "markdown",
   "metadata": {},
   "source": [
    "###### Compare autoencoder trained with sparse weights with normal autoencoder"
   ]
  },
  {
   "cell_type": "code",
   "execution_count": null,
   "metadata": {
    "collapsed": true
   },
   "outputs": [],
   "source": [
    "all_MAPs={}\n",
    "for hash_length in hash_lengths: #k\n",
    "    embedding_size= int(20*hash_length) #int(10*input_dim) #20k or 10d\n",
    "    all_MAPs[hash_length]={}\n",
    "    all_MAPs[hash_length]['SparseAEFly']=[]\n",
    "    all_MAPs[hash_length]['DenseAEFly']=[]\n",
    "    dense=AutoEncoder([784,embedding_size],is_sparse=False,beta=100.0)\n",
    "    d_weights= dense.train(data,maxsize=10_000,show_recon=0)\n",
    "    sparse=AutoEncoder([784,embedding_size],is_sparse=True,beta=100.0)\n",
    "    s_weights= sparse.train(data,maxsize=10_000,show_recon=0)\n",
    "    for _ in range(5):\n",
    "        daefly_model=AEflylsh(inputs_,hash_length,sampling_ratio,d_weights)\n",
    "        daefly_mAP=daefly_model.findmAP(nnn,map_points)\n",
    "        all_MAPs[hash_length]['DenseAEFly'].append(daefly_mAP)\n",
    "        \n",
    "        saefly_model=AEflylsh(inputs_,hash_length,sampling_ratio,s_weights)\n",
    "        saefly_mAP=saefly_model.findmAP(nnn,map_points)\n",
    "        all_MAPs[hash_length]['SparseAEFly'].append(aefly_mAP)\n",
    "        \n",
    "    #print(f'mAP={np.mean(all_MAPs[hash_length][\"AEFly\"])}')\n",
    "    print(f'{hash_length} done')\n",
    "        \n",
    "#print(all_MAPs)"
   ]
  },
  {
   "cell_type": "code",
   "execution_count": null,
   "metadata": {
    "collapsed": true
   },
   "outputs": [],
   "source": [
    "plot_mAP(all_MAPs,[2,4,8,12,16],keys=['SparseAEFly','DenseAEFly'])"
   ]
  }
 ],
 "metadata": {
  "kernelspec": {
   "display_name": "Python 3",
   "language": "python",
   "name": "python3"
  },
  "language_info": {
   "codemirror_mode": {
    "name": "ipython",
    "version": 3
   },
   "file_extension": ".py",
   "mimetype": "text/x-python",
   "name": "python",
   "nbconvert_exporter": "python",
   "pygments_lexer": "ipython3",
   "version": "3.6.1"
  }
 },
 "nbformat": 4,
 "nbformat_minor": 2
}
